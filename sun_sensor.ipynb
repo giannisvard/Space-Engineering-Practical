{
 "cells": [
  {
   "metadata": {},
   "cell_type": "raw",
   "source": "This file works out the cell wise illumination as a function of sun angles",
   "id": "1074cf6c8fb91eea"
  },
  {
   "metadata": {
    "ExecuteTime": {
     "end_time": "2025-04-23T11:30:38.214097Z",
     "start_time": "2025-04-23T11:30:38.180868Z"
    }
   },
   "cell_type": "code",
   "source": [
    "import numpy as np\n",
    "import matplotlib.pyplot as plt\n",
    "\n",
    "# Edit\n",
    "flux = 1400 #w/m**2 is close to the solar radiation flux\n",
    "baffle = 1e-2 # baffle hole size in m\n",
    "d_quadrant = 5e-2 # cell size in m\n",
    "height = 1e-2 # baffle height in m\n",
    "\n",
    "def random_sun_angles():\n",
    "    a = np.random.uniform(-np.pi, np.pi) #y dir\n",
    "    b = np.random.uniform(-np.pi, np.pi) #x dir\n",
    "    return a, b\n",
    "\n",
    "def illumination(f, b, d, h,alpha, beta):\n",
    "    \"\"\"\n",
    "    Calculate the power incident on the quadcells\n",
    "    f: incident flux (no angle)\n",
    "    b: square slit size (in the mask)\n",
    "    d: quadrant size\n",
    "    h: mask height\n",
    "    alpha: true sun angle (degree)\n",
    "    beta: true sun angle (degree)\n",
    "    Issues: The function only accepts one source with a certain flux.\n",
    "    Adding a reflective source is not yet included. Additionally,\n",
    "    a sun sensor baffle is not yet taken into account. Finally, the\n",
    "    calculations assume a point source sun.\n",
    "    \"\"\"\n",
    "    alpha = alpha * np.pi / 180\n",
    "    beta = beta * np.pi / 180\n",
    "    f_angled = f*np.cos(alpha)*np.cos(beta)\n",
    "    # Linear shift due to sun angle\n",
    "    center_distance_a = h*np.tan(alpha) #y\n",
    "    center_distance_b = h*np.tan(beta) #x\n",
    "    # Calculate the illuminated areas\n",
    "    bottom_a = center_distance_a - b/2\n",
    "    top_a = center_distance_a + b/2\n",
    "    bottom_b = center_distance_b - b/2\n",
    "    top_b = center_distance_b + b/2\n",
    "\n",
    "    # Q1 spans x: [0,d], y: [0,d]\n",
    "    # I am basically demanding that the illuminated area overlaps with the cell area\n",
    "    if bottom_a < d and top_a > 0 and top_b > 0 and bottom_b < d  :\n",
    "        side_y1 = min(top_a, d) - max(bottom_a, 0)\n",
    "        side_x1 = min(top_b, d) - max(bottom_b, 0)\n",
    "        A_Q1 = side_x1*side_y1\n",
    "        print(\"Side x1\", side_x1)\n",
    "        print(\"Side y1\", side_y1)\n",
    "    else: # bottom_a >= d or bottom_b >= d:\n",
    "        # This is out of bounds, there is no illuminated area\n",
    "        A_Q1 = 0\n",
    "\n",
    "    # Q 2 spans x: [0,d], y: [-d,0]\n",
    "    if bottom_a < 0 and top_a > -d and bottom_b < d  and top_b > 0:\n",
    "        side_y2 = min(top_a, 0) - max(bottom_a, -d)\n",
    "        side_x2 = min(top_b, d) - max(bottom_b, 0)\n",
    "        A_Q2 = side_x2*side_y2\n",
    "        print(\"Side x2\", side_x2)\n",
    "        print(\"Side y2\", side_y2)\n",
    "    else: #bottom_a >= d or bottom_b >= 0:\n",
    "        A_Q2 = 0\n",
    "\n",
    "    # Q3 spans x: [-d,0], y: [-d,0]\n",
    "    if bottom_a < 0 and top_a > -d and bottom_b < 0 and top_b > -d:\n",
    "        side_y3 = min(top_a, 0) - max(bottom_a, -d)\n",
    "        side_x3 = min(top_b, 0) - max(bottom_b, -d)\n",
    "        A_Q3 = side_x3 * side_y3\n",
    "        print(\"Side x3\", side_x3)\n",
    "        print(\"Side y3\", side_y3)\n",
    "    else: #bottom_a >= 0 or bottom_b >= 0:\n",
    "        A_Q3 = 0\n",
    "\n",
    "    # Q4 spans x: [-d,0], y: [0,d]\n",
    "    if bottom_a < d and top_a > 0 and bottom_b < 0 and top_b > -d:\n",
    "        side_y4 = min(top_a, d) - max(bottom_a, 0)\n",
    "        side_x4 = min(top_b, 0) - max(bottom_b, -d)\n",
    "        A_Q4 = side_x4 * side_y4\n",
    "        print(\"Side x4\", side_x4)\n",
    "        print(\"Side y4\", side_y4)\n",
    "    else: #bottom_a >= 0 or bottom_b >= d:\n",
    "        A_Q4 = 0\n",
    "\n",
    "    # Incident power calculations:\n",
    "    l_1 = f_angled * A_Q1\n",
    "    l_2 = f_angled * A_Q2\n",
    "    l_3 = f_angled * A_Q3\n",
    "    l_4 = f_angled * A_Q4\n",
    "    return l_1, l_2, l_3, l_4"
   ],
   "id": "30ffb1e9e3c534e1",
   "outputs": [],
   "execution_count": 8
  },
  {
   "metadata": {
    "ExecuteTime": {
     "end_time": "2025-04-23T11:30:49.395961Z",
     "start_time": "2025-04-23T11:30:49.379904Z"
    }
   },
   "cell_type": "code",
   "source": [
    "# some test cases with angles in deg\n",
    "x_ang, y_ang  = np.random.uniform(-59.2, 59.2), np.random.uniform(-59.2, 59.2)\n",
    "#x_ang, y_ang = 50, -50\n",
    "l_1, l_2, l_3, l_4 = illumination(flux, baffle, d_quadrant, height, x_ang, y_ang)"
   ],
   "id": "7ba9911edf6f17b7",
   "outputs": [
    {
     "name": "stdout",
     "output_type": "stream",
     "text": [
      "Side x2 0.005657036313654663\n",
      "Side y2 0.009999999999999998\n",
      "Side x3 0.004342963686345337\n",
      "Side y3 0.009999999999999998\n"
     ]
    }
   ],
   "execution_count": 42
  },
  {
   "metadata": {
    "ExecuteTime": {
     "end_time": "2025-04-22T16:10:07.372733Z",
     "start_time": "2025-04-22T16:10:07.351398Z"
    }
   },
   "cell_type": "code",
   "source": "l_1, l_2, l_3, l_4",
   "id": "ca1a540654d9e686",
   "outputs": [
    {
     "data": {
      "text/plain": [
       "(0.0, 0.0, 0.0035934332024925965, 0.09209633007328306)"
      ]
     },
     "execution_count": 65,
     "metadata": {},
     "output_type": "execute_result"
    }
   ],
   "execution_count": 65
  }
 ],
 "metadata": {
  "kernelspec": {
   "display_name": "Python 3",
   "language": "python",
   "name": "python3"
  },
  "language_info": {
   "codemirror_mode": {
    "name": "ipython",
    "version": 2
   },
   "file_extension": ".py",
   "mimetype": "text/x-python",
   "name": "python",
   "nbconvert_exporter": "python",
   "pygments_lexer": "ipython2",
   "version": "2.7.6"
  }
 },
 "nbformat": 4,
 "nbformat_minor": 5
}

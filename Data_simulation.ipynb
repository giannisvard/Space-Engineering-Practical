{
 "cells": [
  {
   "cell_type": "code",
   "id": "initial_id",
   "metadata": {
    "collapsed": true,
    "ExecuteTime": {
     "end_time": "2025-05-09T12:50:14.157460Z",
     "start_time": "2025-05-09T12:50:09.976583Z"
    }
   },
   "source": [
    "import numpy as np\n",
    "import matplotlib.pyplot as plt\n",
    "import scipy.stats as stats\n",
    "\n",
    "# make 100 measurements in the interval\n",
    "truth = np.linspace(-59.2,59.2,200)\n",
    "zeros = np.zeros_like(truth)\n",
    "error_axis = np.linspace(-3,3,200)\n",
    "measurments = np.random.normal(truth,0.5)"
   ],
   "outputs": [],
   "execution_count": 1
  },
  {
   "metadata": {
    "ExecuteTime": {
     "end_time": "2025-05-09T12:51:52.144320Z",
     "start_time": "2025-05-09T12:51:51.217431Z"
    }
   },
   "cell_type": "code",
   "source": [
    "deviation = measurments - truth\n",
    "std = np.std(deviation)\n",
    "mean = np.mean(deviation)\n",
    "plt.hist(deviation)\n",
    "plt.show()\n",
    "\n",
    "#calculate the probability of finding measurements within the accuracy limit\n",
    "p_val = stats.norm(mean, std).cdf(1,-1)\n",
    "plt.plot(np.random.normal(zeros,std),p_val)\n",
    "plt.show()\n",
    "plt.hist(np.random.normal(zeros,std))\n",
    "plt.show()"
   ],
   "id": "7bb30c9b84671483",
   "outputs": [
    {
     "data": {
      "text/plain": [
       "<Figure size 640x480 with 1 Axes>"
      ],
      "image/png": "[encoded data removed]"
     },
     "metadata": {},
     "output_type": "display_data"
    },
    {
     "ename": "TypeError",
     "evalue": "rv_frozen.cdf() takes 2 positional arguments but 3 were given",
     "output_type": "error",
     "traceback": [
      "\u001B[1;31m---------------------------------------------------------------------------\u001B[0m",
      "\u001B[1;31mTypeError\u001B[0m                                 Traceback (most recent call last)",
      "Cell \u001B[1;32mIn[4], line 8\u001B[0m\n\u001B[0;32m      5\u001B[0m plt\u001B[38;5;241m.\u001B[39mshow()\n\u001B[0;32m      7\u001B[0m \u001B[38;5;66;03m#calculate the probability of finding measurements within the accuracy limit\u001B[39;00m\n\u001B[1;32m----> 8\u001B[0m p_val \u001B[38;5;241m=\u001B[39m stats\u001B[38;5;241m.\u001B[39mnorm(mean, std)\u001B[38;5;241m.\u001B[39mcdf(\u001B[38;5;241m1\u001B[39m,\u001B[38;5;241m-\u001B[39m\u001B[38;5;241m1\u001B[39m)\n\u001B[0;32m      9\u001B[0m plt\u001B[38;5;241m.\u001B[39mplot(np\u001B[38;5;241m.\u001B[39mrandom\u001B[38;5;241m.\u001B[39mnormal(zeros,std),p_val)\n\u001B[0;32m     10\u001B[0m plt\u001B[38;5;241m.\u001B[39mshow()\n",
      "\u001B[1;31mTypeError\u001B[0m: rv_frozen.cdf() takes 2 positional arguments but 3 were given"
     ]
    }
   ],
   "execution_count": 4
  },
  {
   "metadata": {
    "ExecuteTime": {
     "end_time": "2025-05-09T12:43:03.501691Z",
     "start_time": "2025-05-09T12:43:03.490046Z"
    }
   },
   "cell_type": "code",
   "source": "std",
   "id": "2eabaccd20e7c6f7",
   "outputs": [
    {
     "data": {
      "text/plain": [
       "0.29676506073166764"
      ]
     },
     "execution_count": 3,
     "metadata": {},
     "output_type": "execute_result"
    }
   ],
   "execution_count": 3
  },
  {
   "metadata": {},
   "cell_type": "code",
   "outputs": [],
   "execution_count": null,
   "source": "",
   "id": "3b3f4b237788e3bf"
  }
 ],
 "metadata": {
  "kernelspec": {
   "display_name": "Python 3",
   "language": "python",
   "name": "python3"
  },
  "language_info": {
   "codemirror_mode": {
    "name": "ipython",
    "version": 2
   },
   "file_extension": ".py",
   "mimetype": "text/x-python",
   "name": "python",
   "nbconvert_exporter": "python",
   "pygments_lexer": "ipython2",
   "version": "2.7.6"
  }
 },
 "nbformat": 4,
 "nbformat_minor": 5
}

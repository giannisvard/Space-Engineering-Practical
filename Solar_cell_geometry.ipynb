{
 "cells": [
  {
   "metadata": {},
   "cell_type": "raw",
   "source": "This file works out the cell wise illumination as a function of sun angles",
   "id": "1074cf6c8fb91eea"
  },
  {
   "metadata": {
    "ExecuteTime": {
     "end_time": "2025-04-22T10:13:10.337379Z",
     "start_time": "2025-04-22T10:13:10.313181Z"
    }
   },
   "cell_type": "code",
   "source": [
    "import numpy as np\n",
    "import matplotlib.pyplot as plt\n",
    "\n",
    "flux = 1000 #w/m**2 is close to the solar radiation flux\n",
    "baffle = 1e-2 # baffle hole size\n",
    "d_quadrant = 5e-2 # cell size\n",
    "height = 1e-2 # baffle height\n",
    "\n",
    "def random_sun_angles():\n",
    "    a = np.random.uniform(-np.pi, np.pi)\n",
    "    b = np.random.uniform(-np.pi, np.pi)\n",
    "    return a, b\n",
    "\n",
    "def illumination(f, b, d, h,alpha, beta):\n",
    "    \"\"\"\n",
    "    Calculate the power incident on the quadcells\n",
    "    f: incident flux (no angle)\n",
    "    b: square slit size (in the mask)\n",
    "    d: quadrant size\n",
    "    h: mask height\n",
    "    alpha: true sun angle (degree)\n",
    "    beta: true sun angle (degree)\n",
    "    \"\"\"\n",
    "    alpha = alpha * np.pi / 180\n",
    "    beta = beta * np.pi / 180\n",
    "    f_angled = f*(np.cos(alpha)*np.cos(beta) + np.sin(alpha)*np.sin(beta))\n",
    "    # Linear shift due to sun angle\n",
    "    center_distance_a = h/np.tan(alpha)\n",
    "    center_distance_b = h/np.tan(beta)\n",
    "    # Calculate the illuminated areas\n",
    "    bottom_a = center_distance_a - b/2\n",
    "    top_a = center_distance_a + b/2\n",
    "    bottom_b = center_distance_b - b/2\n",
    "    top_b = center_distance_b + b/2\n",
    "\n",
    "    # Q1 spans x: [0,d], y: [0,d]\n",
    "    if bottom_a < d and bottom_b < d:\n",
    "        A_Q1 = ((min(center_distance_a + b/2, d) - max(center_distance_a - b/2, 0)) *\n",
    "                (min(center_distance_b + b/2, d) - max(center_distance_b - b/2, 0)))\n",
    "        print(\"Illuminated 1 = \", A_Q1)\n",
    "    elif bottom_a >= d or bottom_b >= d:\n",
    "        A_Q1 = 0\n",
    "\n",
    "    # Q 2 spans x: [0,d], y: [-d,0]\n",
    "    if bottom_a < d and bottom_b < 0:\n",
    "        A_Q2 = ((min(center_distance_a + b/2, d) - max(center_distance_a - b/2, 0)) *\n",
    "                (min(center_distance_b + b/2, 0) - max(center_distance_b - b/2, -d)))\n",
    "        print(\"Illuminated 2 = \", A_Q2)\n",
    "    elif bottom_a >= d or bottom_b >= 0:\n",
    "        A_Q2 = 0\n",
    "\n",
    "    # Q3 spans x: [-d,0], y: [-d,0]\n",
    "    if bottom_a < 0 and bottom_b < 0:\n",
    "        A_Q3 = ((min(center_distance_a + b/2, 0) - max(center_distance_a - b/2, -d)) *\n",
    "                (min(center_distance_b + b/2, 0) - max(center_distance_b - b/2, -d)))\n",
    "        print(\"Illuminated 3 = \", A_Q3)\n",
    "    elif bottom_a >= 0 or bottom_b >= 0:\n",
    "        A_Q3 = 0\n",
    "\n",
    "    # Q4 spans x: [-d,0], y: [0,d]\n",
    "    if bottom_a < 0 and bottom_b < d:\n",
    "        A_Q4 = ((min(center_distance_a + b/2, 0) - max(center_distance_a - b/2, -d)) *\n",
    "                (min(center_distance_b + b/2, b) - max(center_distance_b - b/2, 0)))\n",
    "        print(\"Illuminated 4 = \", A_Q4)\n",
    "    elif bottom_a >= 0 or bottom_b >= d:\n",
    "        A_Q4 = 0\n",
    "\n",
    "    # Incident power calculations:\n",
    "    l_1 = f_angled * A_Q1\n",
    "    l_2 = f_angled * A_Q2\n",
    "    l_3 = f_angled * A_Q3\n",
    "    l_4 = f_angled * A_Q4\n",
    "    return l_1, l_2, l_3, l_4"
   ],
   "id": "30ffb1e9e3c534e1",
   "outputs": [],
   "execution_count": 11
  },
  {
   "metadata": {
    "ExecuteTime": {
     "end_time": "2025-04-22T10:13:18.145509Z",
     "start_time": "2025-04-22T10:13:18.126560Z"
    }
   },
   "cell_type": "code",
   "source": [
    "# some test cases\n",
    "x_ang, y_ang  = np.random.uniform(-59.2, 59.2), np.random.uniform(-59.2, 59.2)\n",
    "l_1, l_2, l_3, l_4 = illumination(flux, baffle, d_quadrant, height, x_ang, y_ang)"
   ],
   "id": "7ba9911edf6f17b7",
   "outputs": [
    {
     "name": "stdout",
     "output_type": "stream",
     "text": [
      "Illuminated 1 =  0.0003232194805779923\n",
      "Illuminated 2 =  -0.0002750544323623332\n",
      "Illuminated 3 =  0.0001\n",
      "Illuminated 4 =  -0.00011751109691343223\n"
     ]
    }
   ],
   "execution_count": 18
  },
  {
   "metadata": {
    "ExecuteTime": {
     "end_time": "2025-04-22T10:09:59.385692Z",
     "start_time": "2025-04-22T10:09:59.362793Z"
    }
   },
   "cell_type": "code",
   "source": "l_1, l_2, l_3, l_4",
   "id": "ca1a540654d9e686",
   "outputs": [
    {
     "data": {
      "text/plain": [
       "(0.021313272440120087,\n",
       " -0.05956129324223083,\n",
       " 0.0992314824017965,\n",
       " -0.03550875919475346)"
      ]
     },
     "execution_count": 6,
     "metadata": {},
     "output_type": "execute_result"
    }
   ],
   "execution_count": 6
  }
 ],
 "metadata": {
  "kernelspec": {
   "display_name": "Python 3",
   "language": "python",
   "name": "python3"
  },
  "language_info": {
   "codemirror_mode": {
    "name": "ipython",
    "version": 2
   },
   "file_extension": ".py",
   "mimetype": "text/x-python",
   "name": "python",
   "nbconvert_exporter": "python",
   "pygments_lexer": "ipython2",
   "version": "2.7.6"
  }
 },
 "nbformat": 4,
 "nbformat_minor": 5
}
